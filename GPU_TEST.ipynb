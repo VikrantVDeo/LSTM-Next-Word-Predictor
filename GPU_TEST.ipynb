{
 "cells": [
  {
   "cell_type": "code",
   "execution_count": 8,
   "id": "82f3f9a3-6ea4-46d1-b446-7232d035cef1",
   "metadata": {},
   "outputs": [
    {
     "name": "stdout",
     "output_type": "stream",
     "text": [
      "CPU Time: 6.58363 sec\n",
      "GPU Time: 0.03220 sec\n"
     ]
    }
   ],
   "source": [
    "import tensorflow as tf\n",
    "import time\n",
    "\n",
    "# Simple matrix multiplication to test GPU speed\n",
    "A = tf.random.normal([10000, 10000])\n",
    "B = tf.random.normal([10000, 10000])\n",
    "\n",
    "# Run on CPU\n",
    "with tf.device('/CPU:0'):\n",
    "    start = time.time()\n",
    "    C = tf.matmul(A, B)\n",
    "    end = time.time()\n",
    "    print(f\"CPU Time: {end - start:.5f} sec\")\n",
    "\n",
    "# Run on GPU\n",
    "with tf.device('/GPU:0'):\n",
    "    start = time.time()\n",
    "    C = tf.matmul(A, B)\n",
    "    end = time.time()\n",
    "    print(f\"GPU Time: {end - start:.5f} sec\")\n"
   ]
  },
  {
   "cell_type": "code",
   "execution_count": 9,
   "id": "6ef5a69a-87fe-403a-ab7b-7d2c6e39c1b9",
   "metadata": {},
   "outputs": [
    {
     "name": "stdout",
     "output_type": "stream",
     "text": [
      "GPU Available: [PhysicalDevice(name='/physical_device:GPU:0', device_type='GPU')]\n",
      "Is TensorFlow using GPU?: True\n",
      "CUDA Enabled: True\n"
     ]
    }
   ],
   "source": [
    "import tensorflow as tf\n",
    "print(\"GPU Available:\", tf.config.list_physical_devices('GPU'))\n",
    "print(\"Is TensorFlow using GPU?:\", tf.test.is_gpu_available())\n",
    "print(\"CUDA Enabled:\", tf.test.is_built_with_cuda())\n"
   ]
  },
  {
   "cell_type": "code",
   "execution_count": 11,
   "id": "cdd409ce-2afa-43ae-9e87-c69d6091ea17",
   "metadata": {},
   "outputs": [
    {
     "name": "stderr",
     "output_type": "stream",
     "text": [
      "Unable to create process using 'C:\\Users\\Vikrant Vivek Deo\\.conda\\envs\\tensorflow_env\\python.exe \"C:\\Users\\Vikrant Vivek Deo\\.conda\\envs\\tensorflow_env\\Scripts\\pip-script.py\" install -r requirements.txt'\n"
     ]
    }
   ],
   "source": [
    "!pip install -r requirements.txt"
   ]
  },
  {
   "cell_type": "code",
   "execution_count": null,
   "id": "75d7b80a-ae40-43d5-a81f-a3cf81307dae",
   "metadata": {},
   "outputs": [],
   "source": []
  }
 ],
 "metadata": {
  "kernelspec": {
   "display_name": "Python 3 (ipykernel)",
   "language": "python",
   "name": "python3"
  },
  "language_info": {
   "codemirror_mode": {
    "name": "ipython",
    "version": 3
   },
   "file_extension": ".py",
   "mimetype": "text/x-python",
   "name": "python",
   "nbconvert_exporter": "python",
   "pygments_lexer": "ipython3",
   "version": "3.10.11"
  }
 },
 "nbformat": 4,
 "nbformat_minor": 5
}
